{
 "cells": [
  {
   "cell_type": "markdown",
   "metadata": {},
   "source": [
    "# Deep learning Deep Dive Part 1: Neural network to learn XOR function\n",
    "\n",
    "<b>Author</b>: Kenny Goh <BR>\n",
    "<b>Date updated</b>: 20/07/2020"
   ]
  },
  {
   "cell_type": "markdown",
   "metadata": {},
   "source": [
    "XOR is a function that accepts two boolean arguments (x1 and x2) and returns true if either x1 or x2 is true.\n",
    "\n",
    "| x1.  | x2.  | XOR. |\n",
    "|------|------|------|\n",
    "|   0  | 0    | 0    |\n",
    "|   1  | 0    | 1    |\n",
    "|   0  | 1    | 1    |\n",
    "|   1  | 1    | 0    |\n",
    "\n",
    "\n",
    "For this demo, we are going to train a simple neural net to approximate XOR function by giving it examples.\n",
    "\n",
    "The neural net will learn the following function\n",
    "\n",
    "$Y=f(X * \\theta)$ <BR>\n",
    "where <BR>\n",
    "  -$Y$ is the ground truth labels. eg [0,1,1,..] <BR>\n",
    "  -$f$ is the XOR function <BR>\n",
    "  -$X$ is the input features e.g [0,0],[1,0],[0,1],... <BR>\n",
    "  -$\\theta$ is the parameters e.g $W + b$ that the deep learning algorithm will learn through backprops <BR> \n",
    "    \n",
    "How deep learning finds the optimal $\\theta$ parameters is the \"crux\" of neural network. In neural network, a model can learn the linear/non-linear boundaries between different input features through calculus (finding the slope of a computation graph), optimization (finding the gap between actual Y value and predicted Y value during training) and then adjusting the $\\theta$ parameters on each iteration of the training step so that gap (loss function) is minimized over the period of the training. Think of it as the neural network drawing a non-linear line between the features in N dimensions where N is the number of feature (X1 belongs here, X2 belongs there...).\n",
    "    \n",
    "After the model is trained (with sufficient data and good parameters choice), the model will be able to predict Y given X input. In this XOR example, if you ask the model, \"hey.. what is the XOR value of true and false?\", it will go like this like this.. \"I can say with 99.99 probability the answer is a yes\". \"and how and why?\" you asked. The reply is \"I have constructed a large multi-floor factory (layers) that can learn to replicate any products (e.g output of XOR function) by having the the minions (nodes) follow specific instructions (weights and biases) to move parts upstream to match the end product. The parts becomes more detailed and complete as it moves upstream (non-linear boundaries). The final product will resemble the end product based based on the feedback loop on each training example (loss function and gradient descent) where instructions (weights and biases) are constantly being fine-tuned so that the replicated product becomes identical to the end product. Based on the training so far, the accuracy so far is 99.99% on validation data, so that is your answer.\n",
    "    \n",
    "Wow! Jarvis who? Isn't it amazing that we can teach deep learning neural network to figure out how to replicate XOR function by just showing it examples instead of telling it what exactly to do? Welcome to the fascinating world of deep learning."
   ]
  },
  {
   "cell_type": "markdown",
   "metadata": {},
   "source": [
    "## Setup"
   ]
  },
  {
   "cell_type": "code",
   "execution_count": 1,
   "metadata": {},
   "outputs": [
    {
     "name": "stderr",
     "output_type": "stream",
     "text": [
      "Using TensorFlow backend.\n",
      "/Users/gohk/opt/anaconda3/lib/python3.7/site-packages/tensorflow/python/framework/dtypes.py:526: FutureWarning: Passing (type, 1) or '1type' as a synonym of type is deprecated; in a future version of numpy, it will be understood as (type, (1,)) / '(1,)type'.\n",
      "  _np_qint8 = np.dtype([(\"qint8\", np.int8, 1)])\n",
      "/Users/gohk/opt/anaconda3/lib/python3.7/site-packages/tensorflow/python/framework/dtypes.py:527: FutureWarning: Passing (type, 1) or '1type' as a synonym of type is deprecated; in a future version of numpy, it will be understood as (type, (1,)) / '(1,)type'.\n",
      "  _np_quint8 = np.dtype([(\"quint8\", np.uint8, 1)])\n",
      "/Users/gohk/opt/anaconda3/lib/python3.7/site-packages/tensorflow/python/framework/dtypes.py:528: FutureWarning: Passing (type, 1) or '1type' as a synonym of type is deprecated; in a future version of numpy, it will be understood as (type, (1,)) / '(1,)type'.\n",
      "  _np_qint16 = np.dtype([(\"qint16\", np.int16, 1)])\n",
      "/Users/gohk/opt/anaconda3/lib/python3.7/site-packages/tensorflow/python/framework/dtypes.py:529: FutureWarning: Passing (type, 1) or '1type' as a synonym of type is deprecated; in a future version of numpy, it will be understood as (type, (1,)) / '(1,)type'.\n",
      "  _np_quint16 = np.dtype([(\"quint16\", np.uint16, 1)])\n",
      "/Users/gohk/opt/anaconda3/lib/python3.7/site-packages/tensorflow/python/framework/dtypes.py:530: FutureWarning: Passing (type, 1) or '1type' as a synonym of type is deprecated; in a future version of numpy, it will be understood as (type, (1,)) / '(1,)type'.\n",
      "  _np_qint32 = np.dtype([(\"qint32\", np.int32, 1)])\n",
      "/Users/gohk/opt/anaconda3/lib/python3.7/site-packages/tensorflow/python/framework/dtypes.py:535: FutureWarning: Passing (type, 1) or '1type' as a synonym of type is deprecated; in a future version of numpy, it will be understood as (type, (1,)) / '(1,)type'.\n",
      "  np_resource = np.dtype([(\"resource\", np.ubyte, 1)])\n"
     ]
    }
   ],
   "source": [
    "import numpy as np\n",
    "from keras.models import Sequential\n",
    "from keras.layers import Dense\n",
    "from keras.models import Sequential\n",
    "from keras.utils.vis_utils import plot_model\n",
    "import matplotlib.pyplot as plt\n",
    "from operator import xor\n",
    "import random\n",
    "from numpy.random import seed\n",
    "\n",
    "seed(1) # Reproducible result\n",
    "\n",
    "def generate_dataset(size: int)->(np.ndarray,np.ndarray):\n",
    "    \"\"\" \n",
    "    generate random XOR dataset\n",
    "    returns a pair of numpy array where the first element is the X features and the second\n",
    "            element is the Y label\n",
    "    \"\"\" \n",
    "    x_data = []\n",
    "    y_labels = []\n",
    "    for i in range(0,size):\n",
    "        a = bool(random.getrandbits(1))\n",
    "        b= bool(random.getrandbits(1))\n",
    "        y = xor(a,b)\n",
    "        x_data.append([a,b])\n",
    "        y_labels.append(y)\n",
    "    return (np.array(x_data), np.array(y_labels))\n",
    "\n",
    "def predict(a: bool, b:bool)->bool:\n",
    "    \"\"\" Helper function to predict whether a pair of boolean is true or false\n",
    "    \"\"\"\n",
    "    predict = model.predict(np.array([[a,b]]))\n",
    "    return predict[0][0] >= 0.5\n",
    "\n",
    "def plot_decision_boundary(model, X, y):\n",
    "    \"\"\" Helper function to plot feature boundaries\n",
    "    \"\"\"\n",
    "    #Set min and max values and give it some padding\n",
    "    x_min, x_max = X[:, 0].min() - 1, X[:,0].max() + 1\n",
    "    y_min, y_max = X[:, 1].min() - 1, X[:,1].max() + 1\n",
    "    h = 0.01\n",
    "    \n",
    "    # Generate a grid of points with distance h between them\n",
    "    resolution = 100 # 100x100 background pixels\n",
    "    xx, yy = np.meshgrid(np.linspace(x_min, x_max, resolution), np.linspace(y_min, y_max, resolution))\n",
    " \n",
    "    # Predict the function value for the whole grid\n",
    "    Z = model.predict(np.c_[xx.ravel(), yy.ravel()])\n",
    "    Z = np.where(Z.reshape(xx.shape) > 0.5, 1, 0)\n",
    "    \n",
    "    # Plot the contour and training examples\n",
    "    plt.contourf(xx, yy, Z, cmap=plt.cm.Spectral)\n",
    "    plt.ylabel('x1')\n",
    "    plt.xlabel('x2')\n",
    "    axes = plt.gca()\n",
    "    axes.set_xlim([-0.1,1.5])\n",
    "    axes.set_ylim([-0.1,1.5])\n",
    "    plt.scatter(X[:,0], X[:,1], c=y, cmap=plt.cm.Spectral)\n",
    "    plt.show()"
   ]
  },
  {
   "cell_type": "markdown",
   "metadata": {},
   "source": [
    "## Data generation\n",
    "\n",
    "Neural network rely on examples to learn the Y labels (called the ground truth). Since I am lazy, I am going to generate the data instead of manually creating a table."
   ]
  },
  {
   "cell_type": "code",
   "execution_count": 2,
   "metadata": {},
   "outputs": [
    {
     "name": "stdout",
     "output_type": "stream",
     "text": [
      "[ True False] -> True\n",
      "[False False] -> False\n",
      "[False  True] -> True\n"
     ]
    }
   ],
   "source": [
    "x, y = generate_dataset(10000) # Generate 10,000 examples\n",
    "print(x[0],'->',y[0]) # Output example 1\n",
    "print(x[1],'->',y[1]) # Output example 2\n",
    "print(x[2],'->',y[2]) # Output example 3"
   ]
  },
  {
   "cell_type": "markdown",
   "metadata": {},
   "source": [
    "## Feature representations"
   ]
  },
  {
   "cell_type": "markdown",
   "metadata": {},
   "source": [
    "The graph below represents the following truth table.\n",
    "\n",
    "| x1.  | x2.  | XOR. |\n",
    "|------|------|------|\n",
    "|   0  | 0    | 0    |\n",
    "|   1  | 0    | 1    |\n",
    "|   0  | 1    | 1    |\n",
    "|   1  | 1    | 0    |\n",
    "\n",
    "Blue = 0.0 (False) <BR>\n",
    "Red = 1.0 (True)\n",
    "    "
   ]
  },
  {
   "cell_type": "code",
   "execution_count": 3,
   "metadata": {
    "scrolled": true
   },
   "outputs": [
    {
     "data": {
      "image/png": "[encoded data removed]",
      "text/plain": [
       "<Figure size 432x288 with 1 Axes>"
      ]
     },
     "metadata": {
      "needs_background": "light"
     },
     "output_type": "display_data"
    }
   ],
   "source": [
    "axes = plt.gca()\n",
    "axes.set_xlim([-0.1,1.5])\n",
    "axes.set_ylim([-0.1,1.5])\n",
    "plt.ylabel('x2')\n",
    "plt.xlabel('x1')\n",
    "plt.scatter(x[:,0], x[:,1], c=y, s=40, cmap=plt.cm.Spectral)\n",
    "plt.show()\n"
   ]
  },
  {
   "cell_type": "markdown",
   "metadata": {},
   "source": [
    "## Model"
   ]
  },
  {
   "cell_type": "markdown",
   "metadata": {},
   "source": [
    "The NN model to approximate $Y=f(X * \\theta)$ <BR>\n",
    "\n",
    "The NN model consists of the following layers <BR>\n",
    "- Layer 0 (Input $X$): Vector with shape $(2,N_x)$ \n",
    "- Layer 1 (Hidden Layer): $Z^{[1]} =W_i^{[1]}*X+B_i^{[1]}, A_i^{[1]}=relu(Z_i{[1]})$ where $i$ represents indexed position of hidden nodes\n",
    "- Layer 2 (Output Node): $Z^{[2]} =W^{[2]}*A^{[1]}+B^{[2]}, A^{[2]}=\\sigma(Z^{[2]})$ \n",
    "<BR><BR>\n",
    "Terms:<BR>\n",
    "-${[l]}$ : lth layer <BR>\n",
    "-$\\sigma$ : [Sigmoid function](https://en.wikipedia.org/wiki/Sigmoid_function) <BR>\n",
    "-relu : [Relu linear rectifier function](https://en.wikipedia.org/wiki/Rectifier_(neural_networks)) <BR>\n",
    "-$N_x$ : number of X training examples\n",
    "    \n",
    "Think of the units in the layers as bunch of neurons. A neuron has input connections and also output connection. The purpose of the neuron is to compute an activation function (A) based on regression function (Z) performed on the previous layer, $Z_i^{[l]}=W_i^{[l]}.A^{[l-1]} + B$. The activation function can squash the resulting Z number to a certain range, eg. 0 or 1 (Sigmoid), -1 and 1 (Tanh). For more detailed explanation on activation function, [visit this link](https://www.analyticsvidhya.com/blog/2020/01/fundamentals-deep-learning-activation-functions-when-to-use-them/).\n",
    "\n",
    "In NN, we tend to use Relu or Tanh for hidden nodes and sigmoid for the output layer if we want to perform binary classification (0 or 1).\n",
    "    "
   ]
  },
  {
   "cell_type": "code",
   "execution_count": 4,
   "metadata": {},
   "outputs": [
    {
     "name": "stdout",
     "output_type": "stream",
     "text": [
      "WARNING:tensorflow:From /Users/gohk/opt/anaconda3/lib/python3.7/site-packages/tensorflow/python/ops/resource_variable_ops.py:435: colocate_with (from tensorflow.python.framework.ops) is deprecated and will be removed in a future version.\n",
      "Instructions for updating:\n",
      "Colocations handled automatically by placer.\n"
     ]
    },
    {
     "data": {
      "image/png": "[encoded data removed]",
      "text/plain": [
       "<IPython.core.display.Image object>"
      ]
     },
     "execution_count": 4,
     "metadata": {},
     "output_type": "execute_result"
    }
   ],
   "source": [
    "model = Sequential()\n",
    "# model.add(Dense(5, input_shape=(2,), activation=\"relu\"))\n",
    "# model.add(Dense(10, input_shape=(2,), activation=\"relu\"))\n",
    "model.add(Dense(25, input_shape=(2,), activation=\"relu\"))\n",
    "# model.add(Dense(10, input_shape=(2,), activation=\"relu\"))\n",
    "model.add(Dense(1, activation=\"sigmoid\"))\n",
    "model.compile(optimizer='rmsprop', loss='binary_crossentropy', metrics=['accuracy'])\n",
    "\n",
    "# Thank goodness for Keras, otherwise we will need to implement our own deep learning algorithm from scratch..\n",
    "\n",
    "plot_model(model)"
   ]
  },
  {
   "cell_type": "markdown",
   "metadata": {},
   "source": [
    "## Training (Fail until you make it)\n",
    "\n",
    "This is actually where deep learning gets exciting. You give it many examples, the neural network will eventually figure out the mappings between  $Y=f(X * \\theta)$ <BR>\n",
    "\n",
    "The neural network starts with really lousy accuracy (random weights + biases), but it will get better over time as it learns from more examples. The model accuracy and loss function chart below shows how the learning algorithm fares over epochs (entire pass of single training dataset).\n",
    "    \n",
    "All of this is possible due to gradient descent algorithms and loss functions.\n",
    "    \n",
    "We will not cover gradient descent and optimization functions here, for the purpose of this demo, I will give you a rough intuition about this two ideas:\n",
    "\n",
    "Loss functions - In neural network, we use loss functions to compute the error between between the Y label (the ground truth label) and the predicted Y value. There are many type of loss functions such as MSE (mean square error), cross entropy loss function and so on. For the purpose of this demo, we will use entropy loss function because it is suitable for binary classification where the output needs to be between 0.0 and 1.0\n",
    "    \n",
    "Gradient descent algorithms - This is an algorithm where the neural network tries to minimize the error in the loss function by \"stepping down the hill\" through calculus in backward propagation. Each time, we go through an iteration in the training, the algorithm finds the delta (for moving down the hill in small step) and update the $\\theta$ parameters. Repeated many times, the algorithm will converge at the bottom of the hill at some point, which means the error between the Y label and the prediction is minimized, in other words the prediction is more accurate."
   ]
  },
  {
   "cell_type": "code",
   "execution_count": 5,
   "metadata": {},
   "outputs": [
    {
     "name": "stdout",
     "output_type": "stream",
     "text": [
      "WARNING:tensorflow:From /Users/gohk/opt/anaconda3/lib/python3.7/site-packages/tensorflow/python/ops/math_ops.py:3066: to_int32 (from tensorflow.python.ops.math_ops) is deprecated and will be removed in a future version.\n",
      "Instructions for updating:\n",
      "Use tf.cast instead.\n",
      "Epoch 1/5\n",
      "10000/10000 [==============================] - 0s 27us/step - loss: 0.6226 - accuracy: 0.9330\n",
      "Epoch 2/5\n",
      "10000/10000 [==============================] - 0s 12us/step - loss: 0.5314 - accuracy: 1.0000\n",
      "Epoch 3/5\n",
      "10000/10000 [==============================] - 0s 12us/step - loss: 0.4249 - accuracy: 1.0000\n",
      "Epoch 4/5\n",
      "10000/10000 [==============================] - 0s 12us/step - loss: 0.3127 - accuracy: 1.0000\n",
      "Epoch 5/5\n",
      "10000/10000 [==============================] - 0s 13us/step - loss: 0.2137 - accuracy: 1.0000\n",
      "Model: \"sequential_1\"\n",
      "_________________________________________________________________\n",
      "Layer (type)                 Output Shape              Param #   \n",
      "=================================================================\n",
      "dense_1 (Dense)              (None, 25)                75        \n",
      "_________________________________________________________________\n",
      "dense_2 (Dense)              (None, 1)                 26        \n",
      "=================================================================\n",
      "Total params: 101\n",
      "Trainable params: 101\n",
      "Non-trainable params: 0\n",
      "_________________________________________________________________\n",
      "None\n"
     ]
    },
    {
     "data": {
      "image/png": "[encoded data removed]",
      "text/plain": [
       "<Figure size 432x288 with 1 Axes>"
      ]
     },
     "metadata": {
      "needs_background": "light"
     },
     "output_type": "display_data"
    },
    {
     "data": {
      "image/png": "[encoded data removed]",
      "text/plain": [
       "<Figure size 432x288 with 1 Axes>"
      ]
     },
     "metadata": {
      "needs_background": "light"
     },
     "output_type": "display_data"
    }
   ],
   "source": [
    "\n",
    "# Train the model using generated dataset, with batch size of 64 (process 64 examples at a time) \n",
    "# and 20 epochs (repeat the whole dataset 20 times) please.. \n",
    "history = model.fit(x, y, batch_size=64, epochs=5)\n",
    "\n",
    "#Sanity check\n",
    "print(model.summary())\n",
    "\n",
    "# summarize history for accuracy\n",
    "plt.plot(history.history['accuracy'])\n",
    "plt.title('model accuracy')\n",
    "plt.ylabel('accuracy')\n",
    "plt.xlabel('epoch')\n",
    "plt.legend(['train', 'test'], loc='upper left')\n",
    "plt.show()\n",
    "\n",
    "# summarize history for loss\n",
    "plt.plot(history.history['loss'])\n",
    "plt.title('model loss')\n",
    "plt.ylabel('loss')\n",
    "plt.xlabel('epoch')\n",
    "plt.legend(['train', 'test'], loc='upper left')\n",
    "plt.show()"
   ]
  },
  {
   "cell_type": "markdown",
   "metadata": {},
   "source": [
    "## Magic time! Let the prediction begins..."
   ]
  },
  {
   "cell_type": "code",
   "execution_count": 6,
   "metadata": {},
   "outputs": [
    {
     "name": "stdout",
     "output_type": "stream",
     "text": [
      "F F False\n",
      "T F True\n",
      "F T True\n",
      "T T False\n"
     ]
    }
   ],
   "source": [
    "print(\"F F\", predict(False,False))\n",
    "print(\"T F\",predict(True,False))\n",
    "print(\"F T\",predict(False,True))\n",
    "print(\"T T\", predict(True,True))"
   ]
  },
  {
   "cell_type": "markdown",
   "metadata": {},
   "source": [
    "## Feature boundaries after learning"
   ]
  },
  {
   "cell_type": "code",
   "execution_count": 7,
   "metadata": {},
   "outputs": [
    {
     "data": {
      "image/png": "[encoded data removed]",
      "text/plain": [
       "<Figure size 432x288 with 1 Axes>"
      ]
     },
     "metadata": {
      "needs_background": "light"
     },
     "output_type": "display_data"
    }
   ],
   "source": [
    "plot_decision_boundary(model,x, y)"
   ]
  },
  {
   "cell_type": "markdown",
   "metadata": {},
   "source": [
    "## Learned parameters $\\theta$"
   ]
  },
  {
   "cell_type": "code",
   "execution_count": 8,
   "metadata": {},
   "outputs": [
    {
     "name": "stdout",
     "output_type": "stream",
     "text": [
      "W1: [[ 7.5499570e-01  6.7839932e-01  5.4502141e-01  8.1388563e-01\n",
      "   4.1886955e-01  7.2760379e-01 -1.2043905e-01 -3.6579284e-01\n",
      "  -9.2441684e-01  2.1485220e-01  3.5946712e-01  4.9969372e-01\n",
      "   4.9156246e-01 -2.6053530e-01 -4.1793495e-02 -2.4163890e-01\n",
      "   1.3686605e-03 -2.4057072e-01 -3.0600971e-01 -4.0280670e-01\n",
      "  -4.1824409e-01  4.3013808e-01 -6.7357564e-01 -7.9590154e-01\n",
      "   1.9894052e-01]\n",
      " [-7.5322276e-01 -6.7698944e-01  5.4471308e-01 -8.1128669e-01\n",
      "   1.9154383e-01 -7.2540081e-01 -2.8929350e-01 -2.6263893e-01\n",
      "   9.2532825e-01 -2.1649207e-01 -1.5184510e-01  4.9814287e-01\n",
      "  -4.8919874e-01  4.1575119e-02 -1.7889518e-01 -4.2783526e-01\n",
      "   1.7731649e-01 -2.3334193e-01 -7.9543889e-03  4.0357825e-01\n",
      "  -4.0337443e-04  4.2891648e-01  6.7400295e-01  7.9696155e-01\n",
      "   2.6099557e-01]]\n"
     ]
    }
   ],
   "source": [
    "print(\"W1:\", model.layers[0].get_weights()[0])"
   ]
  },
  {
   "cell_type": "code",
   "execution_count": 9,
   "metadata": {},
   "outputs": [
    {
     "name": "stdout",
     "output_type": "stream",
     "text": [
      "B1: [ 5.4838636e-04  7.5421744e-04 -5.4535180e-01 -3.5252998e-04\n",
      " -1.6437416e-03 -2.9484788e-04  0.0000000e+00  0.0000000e+00\n",
      " -1.9847837e-03  4.4177142e-01  4.0275127e-01 -4.9868852e-01\n",
      " -4.1103340e-04 -4.2651039e-02  0.0000000e+00  0.0000000e+00\n",
      "  4.0832183e-01  0.0000000e+00  0.0000000e+00 -3.3389908e-04\n",
      "  0.0000000e+00 -4.2965883e-01 -1.7769467e-03 -3.2776626e-04\n",
      " -1.4556048e-03]\n"
     ]
    }
   ],
   "source": [
    "print(\"B1:\", model.layers[0].get_weights()[1])"
   ]
  },
  {
   "cell_type": "code",
   "execution_count": 10,
   "metadata": {},
   "outputs": [
    {
     "name": "stdout",
     "output_type": "stream",
     "text": [
      "W2: [[ 0.72028244]\n",
      " [ 0.92310244]\n",
      " [-0.71359426]\n",
      " [ 1.0967884 ]\n",
      " [ 0.29914024]\n",
      " [ 1.2203953 ]\n",
      " [ 0.06187588]\n",
      " [-0.00770265]\n",
      " [ 0.98931   ]\n",
      " [-0.50382227]\n",
      " [-0.680745  ]\n",
      " [-0.8117773 ]\n",
      " [ 0.6796558 ]\n",
      " [-0.16503118]\n",
      " [ 0.06516731]\n",
      " [-0.2622503 ]\n",
      " [-0.34521124]\n",
      " [ 0.19292545]\n",
      " [ 0.28633833]\n",
      " [ 0.76356655]\n",
      " [-0.24146423]\n",
      " [-0.96179014]\n",
      " [ 0.81461084]\n",
      " [ 1.0379984 ]\n",
      " [ 0.23134995]]\n"
     ]
    }
   ],
   "source": [
    "print(\"W2:\", model.layers[1].get_weights()[0])"
   ]
  },
  {
   "cell_type": "code",
   "execution_count": 11,
   "metadata": {},
   "outputs": [
    {
     "name": "stdout",
     "output_type": "stream",
     "text": [
      "B2: [-0.4053619]\n"
     ]
    }
   ],
   "source": [
    "print(\"B2:\", model.layers[1].get_weights()[1])"
   ]
  }
 ],
 "metadata": {
  "kernelspec": {
   "display_name": "Python 3",
   "language": "python",
   "name": "python3"
  },
  "language_info": {
   "codemirror_mode": {
    "name": "ipython",
    "version": 3
   },
   "file_extension": ".py",
   "mimetype": "text/x-python",
   "name": "python",
   "nbconvert_exporter": "python",
   "pygments_lexer": "ipython3",
   "version": "3.7.6"
  }
 },
 "nbformat": 4,
 "nbformat_minor": 4
}
